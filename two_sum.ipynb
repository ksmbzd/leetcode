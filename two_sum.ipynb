{
 "cells": [
  {
   "cell_type": "markdown",
   "metadata": {},
   "source": [
    "# Two Sum\n",
    "\n",
    "Given an array of integers `nums` and an integer `target`, return indices of the two numbers such that they add up to `target`.\n",
    "\n",
    "You may assume that each input would have exactly one solution, and you may not use the same element twice.\n",
    "\n",
    "You can return the answer in any order.\n",
    "\n",
    "## Example 1:\n",
    "\n",
    "- **Input:** `nums = [2,7,11,15]`, `target = 9`\n",
    "- **Output:** `[0,1]`\n",
    "- **Explanation:** Because `nums[0] + nums[1] == 9`, we return `[0, 1]`.\n",
    "\n",
    "## Example 2:\n",
    "\n",
    "- **Input:** `nums = [3,2,4]`, `target = 6`\n",
    "- **Output:** `[1,2]`\n",
    "\n",
    "## Example 3:\n",
    "\n",
    "- **Input:** `nums = [3,3]`, `target = 6`\n",
    "- **Output:** `[0,1]`\n",
    "\n",
    "## Constraints:\n",
    "\n",
    "- `2 <= nums.length <= 10^4`\n",
    "- `-10^9 <= nums[i] <= 10^9`\n",
    "- `-10^9 <= target <= 10^9`\n",
    "- Only one valid answer exists.\n",
    "\n",
    "## Follow-up:\n",
    "\n",
    "Can you come up with an algorithm that is less than O(n^2) time complexity?\n"
   ]
  },
  {
   "cell_type": "code",
   "execution_count": 4,
   "metadata": {},
   "outputs": [],
   "source": [
    "nums = [2, 7, 11, 15]\n",
    "target = 26"
   ]
  },
  {
   "cell_type": "markdown",
   "metadata": {},
   "source": [
    "1. Solution with complexity O(n^2)"
   ]
  },
  {
   "cell_type": "code",
   "execution_count": 5,
   "metadata": {},
   "outputs": [
    {
     "name": "stdout",
     "output_type": "stream",
     "text": [
      "[2, 3]\n"
     ]
    }
   ],
   "source": [
    "for num_1 in range(len(nums)):\n",
    "    for num_2 in range(num_1+1,len(nums)):\n",
    "        if nums[num_1] + nums[num_2] == target:\n",
    "            print([num_1,num_2])\n",
    "            break\n",
    "    else:\n",
    "        continue"
   ]
  },
  {
   "cell_type": "markdown",
   "metadata": {},
   "source": [
    "2. Solution with complexity O(n)"
   ]
  },
  {
   "cell_type": "code",
   "execution_count": 6,
   "metadata": {},
   "outputs": [
    {
     "name": "stdout",
     "output_type": "stream",
     "text": [
      "[2, 3]\n"
     ]
    }
   ],
   "source": [
    "num_list= {}\n",
    "\n",
    "for index, num in enumerate(nums):\n",
    "    value = target - num\n",
    "    if value in num_list:\n",
    "        print([num_list[value], index])\n",
    "        break\n",
    "    num_list[num] = index"
   ]
  }
 ],
 "metadata": {
  "kernelspec": {
   "display_name": "Python 3",
   "language": "python",
   "name": "python3"
  },
  "language_info": {
   "codemirror_mode": {
    "name": "ipython",
    "version": 3
   },
   "file_extension": ".py",
   "mimetype": "text/x-python",
   "name": "python",
   "nbconvert_exporter": "python",
   "pygments_lexer": "ipython3",
   "version": "3.9.12"
  }
 },
 "nbformat": 4,
 "nbformat_minor": 2
}
